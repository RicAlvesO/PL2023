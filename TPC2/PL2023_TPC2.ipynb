{
 "cells": [
  {
   "cell_type": "markdown",
   "metadata": {},
   "source": [
    "# TPC2: Somador on/off\n",
    "\n",
    "Crie um programa em Python que tenha o seguinte comportamento:\n",
    "\n",
    "  * Pretende-se um programa que some todas as sequências de dígitos que encontre num texto;\n",
    "  * Prepare o programa para ler o texto do canal de entrada: stdin;\n",
    "  * Sempre que encontrar a string “Off” em qualquer combinação de maiúsculas e minúsculas, esse comportamento é desligado;\n",
    "  * Sempre que encontrar a string “On” em qualquer combinação de maiúsculas e minúsculas, esse comportamento é novamente ligado;\n",
    "  * Sempre que encontrar o caráter “=”, o resultado da soma é colocado na saída.\n"
   ]
  },
  {
   "cell_type": "code",
   "execution_count": 3,
   "metadata": {},
   "outputs": [
    {
     "name": "stdout",
     "output_type": "stream",
     "text": [
      "Please enter the desired string: \n",
      "The sum of the numbers in the string is: 111\n"
     ]
    }
   ],
   "source": [
    "def sum_nums(string):\n",
    "    # Initialize the sum\n",
    "    sum = 0\n",
    "    on = True\n",
    "    at = 0\n",
    "    # Loop through the numbers from 1 to the number the user entered\n",
    "    for i in range(0, len(string)):\n",
    "        if string[i].isdigit() and on:\n",
    "            at=(at*10)+int(string[i])\n",
    "        elif on:\n",
    "            sum+=at\n",
    "            at=0\n",
    "            if string[i:].startswith(\"on\"):\n",
    "                on = True\n",
    "            elif string[i:].startswith(\"off\"):\n",
    "                on = False\n",
    "            elif string[i]==\"=\":\n",
    "                print(sum)\n",
    "    \n",
    "    # Print the sum\n",
    "    return sum\n",
    "\n",
    "string=\"\"\n",
    "s=\" \"\n",
    "print(\"Please enter the desired string: \")\n",
    "while s!=\"\":\n",
    "    s=input()\n",
    "    string+=s\n",
    "total = sum_nums(string.lower())\n",
    "print(\"The sum of the numbers in the string is: \" + str(total))"
   ]
  }
 ],
 "metadata": {
  "kernelspec": {
   "display_name": "Python 3",
   "language": "python",
   "name": "python3"
  },
  "language_info": {
   "codemirror_mode": {
    "name": "ipython",
    "version": 3
   },
   "file_extension": ".py",
   "mimetype": "text/x-python",
   "name": "python",
   "nbconvert_exporter": "python",
   "pygments_lexer": "ipython3",
   "version": "3.10.9"
  },
  "orig_nbformat": 4,
  "vscode": {
   "interpreter": {
    "hash": "e7370f93d1d0cde622a1f8e1c04877d8463912d04d973331ad4851f04de6915a"
   }
  }
 },
 "nbformat": 4,
 "nbformat_minor": 2
}
