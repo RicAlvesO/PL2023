{
  "cells": [
    {
      "attachments": {},
      "cell_type": "markdown",
      "metadata": {},
      "source": [
        "# TPC1: Análise de dados: doença cardíaca\n",
        "\n",
        "Descarregue o ficheiro de dados: `myheart.csv`\n",
        "Crie um programa em Python, conjunto de funções, que responda às seguintes questões:\n",
        "* Crie uma função que lê a informação do ficheiro para um modelo, previamente pensado em memória;\n",
        "* Pense num modelo para guardar uma distribuição;\n",
        "* Crie uma função que calcula a distribuição da doença por sexo;\n",
        "* Crie uma função que calcula a distribuição da doença por escalões etários. Considere os seguintes escalões: [30-34], [35-39], [40-44], ...\n",
        "* Crie uma função que calcula a distribuição da doença por níveis de colesterol. Considere um nível igual a um intervalo de 10 unidades, comece no limite inferior e crie os níveis necessários até abranger o limite superior;\n",
        "* Crie uma função que imprime na forma de uma tabela uma distribuição;\n",
        "* Especifique um programa que ao executar apresenta as tabelas correspondentes às distribuições pedidas;\n",
        "* Extra: explore o módulo matplotlib e crie gráficos para as suas distribuições."
      ]
    },
    {
      "attachments": {},
      "cell_type": "markdown",
      "metadata": {},
      "source": [
        "#### Bibliotecas Utilizadas"
      ]
    },
    {
      "cell_type": "code",
      "execution_count": 64,
      "metadata": {},
      "outputs": [
        {
          "name": "stdout",
          "output_type": "stream",
          "text": [
            "✓ All libraries imported\n"
          ]
        }
      ],
      "source": [
        "import pandas as pd\n",
        "import matplotlib.pyplot as plt\n",
        "import numpy as np\n",
        "\n",
        "print('\\u2713', 'All libraries imported')"
      ]
    },
    {
      "attachments": {},
      "cell_type": "markdown",
      "metadata": {},
      "source": [
        "#### 1: Crie uma função que lê a informação do ficheiro para um modelo, previamente pensado em memória"
      ]
    },
    {
      "cell_type": "code",
      "execution_count": 65,
      "metadata": {},
      "outputs": [
        {
          "data": {
            "text/html": [
              "<div>\n",
              "<style scoped>\n",
              "    .dataframe tbody tr th:only-of-type {\n",
              "        vertical-align: middle;\n",
              "    }\n",
              "\n",
              "    .dataframe tbody tr th {\n",
              "        vertical-align: top;\n",
              "    }\n",
              "\n",
              "    .dataframe thead th {\n",
              "        text-align: right;\n",
              "    }\n",
              "</style>\n",
              "<table border=\"1\" class=\"dataframe\">\n",
              "  <thead>\n",
              "    <tr style=\"text-align: right;\">\n",
              "      <th></th>\n",
              "      <th>idade</th>\n",
              "      <th>sexo</th>\n",
              "      <th>tensão</th>\n",
              "      <th>colesterol</th>\n",
              "      <th>batimento</th>\n",
              "      <th>temDoença</th>\n",
              "    </tr>\n",
              "  </thead>\n",
              "  <tbody>\n",
              "    <tr>\n",
              "      <th>0</th>\n",
              "      <td>40</td>\n",
              "      <td>M</td>\n",
              "      <td>140</td>\n",
              "      <td>289</td>\n",
              "      <td>172</td>\n",
              "      <td>0</td>\n",
              "    </tr>\n",
              "    <tr>\n",
              "      <th>1</th>\n",
              "      <td>49</td>\n",
              "      <td>F</td>\n",
              "      <td>160</td>\n",
              "      <td>180</td>\n",
              "      <td>156</td>\n",
              "      <td>1</td>\n",
              "    </tr>\n",
              "    <tr>\n",
              "      <th>2</th>\n",
              "      <td>37</td>\n",
              "      <td>M</td>\n",
              "      <td>130</td>\n",
              "      <td>283</td>\n",
              "      <td>98</td>\n",
              "      <td>0</td>\n",
              "    </tr>\n",
              "    <tr>\n",
              "      <th>3</th>\n",
              "      <td>48</td>\n",
              "      <td>F</td>\n",
              "      <td>138</td>\n",
              "      <td>214</td>\n",
              "      <td>108</td>\n",
              "      <td>1</td>\n",
              "    </tr>\n",
              "    <tr>\n",
              "      <th>4</th>\n",
              "      <td>54</td>\n",
              "      <td>M</td>\n",
              "      <td>150</td>\n",
              "      <td>195</td>\n",
              "      <td>122</td>\n",
              "      <td>0</td>\n",
              "    </tr>\n",
              "    <tr>\n",
              "      <th>...</th>\n",
              "      <td>...</td>\n",
              "      <td>...</td>\n",
              "      <td>...</td>\n",
              "      <td>...</td>\n",
              "      <td>...</td>\n",
              "      <td>...</td>\n",
              "    </tr>\n",
              "    <tr>\n",
              "      <th>834</th>\n",
              "      <td>44</td>\n",
              "      <td>M</td>\n",
              "      <td>120</td>\n",
              "      <td>220</td>\n",
              "      <td>170</td>\n",
              "      <td>0</td>\n",
              "    </tr>\n",
              "    <tr>\n",
              "      <th>835</th>\n",
              "      <td>54</td>\n",
              "      <td>M</td>\n",
              "      <td>110</td>\n",
              "      <td>239</td>\n",
              "      <td>126</td>\n",
              "      <td>1</td>\n",
              "    </tr>\n",
              "    <tr>\n",
              "      <th>836</th>\n",
              "      <td>65</td>\n",
              "      <td>M</td>\n",
              "      <td>135</td>\n",
              "      <td>254</td>\n",
              "      <td>127</td>\n",
              "      <td>1</td>\n",
              "    </tr>\n",
              "    <tr>\n",
              "      <th>837</th>\n",
              "      <td>57</td>\n",
              "      <td>M</td>\n",
              "      <td>150</td>\n",
              "      <td>168</td>\n",
              "      <td>174</td>\n",
              "      <td>0</td>\n",
              "    </tr>\n",
              "    <tr>\n",
              "      <th>838</th>\n",
              "      <td>63</td>\n",
              "      <td>M</td>\n",
              "      <td>130</td>\n",
              "      <td>330</td>\n",
              "      <td>132</td>\n",
              "      <td>1</td>\n",
              "    </tr>\n",
              "  </tbody>\n",
              "</table>\n",
              "<p>839 rows × 6 columns</p>\n",
              "</div>"
            ],
            "text/plain": [
              "     idade sexo  tensão  colesterol  batimento  temDoença\n",
              "0       40    M     140         289        172          0\n",
              "1       49    F     160         180        156          1\n",
              "2       37    M     130         283         98          0\n",
              "3       48    F     138         214        108          1\n",
              "4       54    M     150         195        122          0\n",
              "..     ...  ...     ...         ...        ...        ...\n",
              "834     44    M     120         220        170          0\n",
              "835     54    M     110         239        126          1\n",
              "836     65    M     135         254        127          1\n",
              "837     57    M     150         168        174          0\n",
              "838     63    M     130         330        132          1\n",
              "\n",
              "[839 rows x 6 columns]"
            ]
          },
          "execution_count": 65,
          "metadata": {},
          "output_type": "execute_result"
        }
      ],
      "source": [
        "def load_data(file):\n",
        "    df = pd.read_csv(file)\n",
        "    return df \n",
        "\n",
        "load_data('myheart.csv')"
      ]
    },
    {
      "attachments": {},
      "cell_type": "markdown",
      "metadata": {},
      "source": [
        "#### 2&6: Pense num modelo para guardar uma distribuição e crie uma função que imprime na forma de uma tabela uma distribuição; "
      ]
    },
    {
      "cell_type": "code",
      "execution_count": 66,
      "metadata": {},
      "outputs": [
        {
          "name": "stdout",
          "output_type": "stream",
          "text": [
            "My Distribution:\n",
            "*---------------------------*\n",
            "|    Value    |  Frequency  |\n",
            "*---------------------------*\n",
            "|      A      |  0.3000000  |\n",
            "|      B      |  0.7000000  |\n",
            "*---------------------------*\n"
          ]
        }
      ],
      "source": [
        "class distribution:\n",
        "    def __init__(self, data, name='Distribution'):\n",
        "        # data should be a list of tuples\n",
        "        # where first element is the value and second element is the frequency\n",
        "        self.data = data\n",
        "        # name of the distribution \n",
        "        self.name = name\n",
        "    \n",
        "    def __str__(self):\n",
        "        # header\n",
        "        table=f\"\"\"{self.name}:\n",
        "*---------------------------*\n",
        "|    Value    |  Frequency  |\n",
        "*---------------------------*\"\"\"\n",
        "        # values\n",
        "        self.data.sort(key=lambda x: x[0])\n",
        "        for value, freq in self.data:\n",
        "            table += f\"\"\"\n",
        "| {value.center(11,\" \")} |  {freq:.7f}  |\"\"\"\n",
        "        # end\n",
        "        table += f\"\"\"\n",
        "*---------------------------*\"\"\"\n",
        "        return table\n",
        "\n",
        "# Example Distribution Table\n",
        "a = distribution([('A', 0.3), ('B', 0.7)], 'My Distribution')\n",
        "print(a)"
      ]
    },
    {
      "attachments": {},
      "cell_type": "markdown",
      "metadata": {},
      "source": [
        "#### 3: Crie uma função que calcula a distribuição da doença por sexo"
      ]
    },
    {
      "cell_type": "code",
      "execution_count": 67,
      "metadata": {},
      "outputs": [
        {
          "name": "stdout",
          "output_type": "stream",
          "text": [
            "Distribution of disease by sex:\n",
            "*---------------------------*\n",
            "|    Value    |  Frequency  |\n",
            "*---------------------------*\n",
            "|      F      |  0.0854701  |\n",
            "|      M      |  0.9145299  |\n",
            "*---------------------------*\n"
          ]
        }
      ],
      "source": [
        "def dist_by_sex(df):\n",
        "    total = 0\n",
        "    m=0\n",
        "    f=0\n",
        "    for index,row in df.iterrows():\n",
        "        if row['temDoença']==1 and row['sexo']=='M':\n",
        "            m+=1\n",
        "            total+=1\n",
        "        elif row['temDoença']==1:\n",
        "            f+=1\n",
        "            total+=1\n",
        "    dist=distribution([('M',m/total),('F',f/total)], \"Distribution of disease by sex\")\n",
        "    return dist\n",
        "\n",
        "print(dist_by_sex(load_data('myheart.csv')))"
      ]
    },
    {
      "attachments": {},
      "cell_type": "markdown",
      "metadata": {},
      "source": [
        "#### 4: Crie uma função que calcula a distribuição da doença por escalões etários. Considere os seguintes escalões: [30-34], [35-39], [40-44], ..."
      ]
    },
    {
      "cell_type": "code",
      "execution_count": 68,
      "metadata": {},
      "outputs": [
        {
          "name": "stdout",
          "output_type": "stream",
          "text": [
            "Distribution of disease by age:\n",
            "*---------------------------*\n",
            "|    Value    |  Frequency  |\n",
            "*---------------------------*\n",
            "|   [30,34]   |  0.0128205  |\n",
            "|   [35,39]   |  0.0405983  |\n",
            "|   [40,44]   |  0.0576923  |\n",
            "|   [45,49]   |  0.1089744  |\n",
            "|   [50,54]   |  0.1773504  |\n",
            "|   [55,59]   |  0.2435897  |\n",
            "|   [60,64]   |  0.2158120  |\n",
            "|   [65,69]   |  0.0961538  |\n",
            "|   [70,74]   |  0.0363248  |\n",
            "|   [75,79]   |  0.0106838  |\n",
            "*---------------------------*\n"
          ]
        }
      ],
      "source": [
        "def dist_by_age(df):\n",
        "    total = 0\n",
        "    dt={}\n",
        "    for index,row in df.iterrows():\n",
        "        if row['temDoença']==1:\n",
        "            amin=row['idade']//10*10\n",
        "            if row['idade']%10>=5:\n",
        "                amin+=5\n",
        "            if amin not in dt.keys():\n",
        "                dt[amin]=1\n",
        "            else:\n",
        "                dt[amin]+=1\n",
        "            total+=1\n",
        "    dist=distribution([(f\"[{key},{key+4}]\",dt[key]/total) for key in dt.keys()], \"Distribution of disease by age\")\n",
        "    return dist\n",
        "\n",
        "print(dist_by_age(load_data('myheart.csv')))"
      ]
    },
    {
      "attachments": {},
      "cell_type": "markdown",
      "metadata": {},
      "source": [
        "#### 5: Crie uma função que calcula a distribuição da doença por níveis de colesterol. Considere um nível igual a um intervalo de 10 unidades, comece no limite inferior e crie os níveis necessários até abranger o limite superior"
      ]
    },
    {
      "cell_type": "code",
      "execution_count": 69,
      "metadata": {},
      "outputs": [
        {
          "name": "stdout",
          "output_type": "stream",
          "text": [
            "Distribution of disease by age:\n",
            "*---------------------------*\n",
            "|    Value    |  Frequency  |\n",
            "*---------------------------*\n",
            "|  [100,109]  |  0.0031646  |\n",
            "|  [110,119]  |  0.0094937  |\n",
            "|  [120,129]  |  0.0063291  |\n",
            "|  [130,139]  |  0.0031646  |\n",
            "|  [140,149]  |  0.0063291  |\n",
            "|  [150,159]  |  0.0094937  |\n",
            "|  [160,169]  |  0.0189873  |\n",
            "|  [170,179]  |  0.0316456  |\n",
            "|  [180,189]  |  0.0253165  |\n",
            "|  [190,199]  |  0.0348101  |\n",
            "|  [200,209]  |  0.0601266  |\n",
            "|  [210,219]  |  0.0917722  |\n",
            "|  [220,229]  |  0.0759494  |\n",
            "|  [230,239]  |  0.0791139  |\n",
            "|  [240,249]  |  0.0664557  |\n",
            "|  [250,259]  |  0.0569620  |\n",
            "|  [260,269]  |  0.0759494  |\n",
            "|  [270,279]  |  0.0569620  |\n",
            "|  [280,289]  |  0.0822785  |\n",
            "|  [290,299]  |  0.0443038  |\n",
            "|  [300,309]  |  0.0379747  |\n",
            "|  [310,319]  |  0.0253165  |\n",
            "|  [320,329]  |  0.0126582  |\n",
            "|  [330,339]  |  0.0253165  |\n",
            "|  [340,349]  |  0.0158228  |\n",
            "|  [350,359]  |  0.0031646  |\n",
            "|  [360,369]  |  0.0031646  |\n",
            "|  [380,389]  |  0.0063291  |\n",
            "|  [390,399]  |  0.0063291  |\n",
            "|  [400,409]  |  0.0094937  |\n",
            "|  [460,469]  |  0.0031646  |\n",
            "|  [490,499]  |  0.0031646  |\n",
            "|  [510,519]  |  0.0031646  |\n",
            "|  [520,529]  |  0.0031646  |\n",
            "|  [600,609]  |  0.0031646  |\n",
            "*---------------------------*\n"
          ]
        }
      ],
      "source": [
        "def dist_by_col(df):\n",
        "    total = 0\n",
        "    dt={}\n",
        "    for index,row in df.iterrows():\n",
        "        if row['temDoença']==1 and row['colesterol']!=0:\n",
        "            col=row['colesterol']//10*10\n",
        "            if col not in dt.keys():\n",
        "                dt[col]=1\n",
        "            else:\n",
        "                dt[col]+=1\n",
        "            total+=1\n",
        "    dist=distribution([(f\"[{key},{key+9}]\",dt[key]/total) for key in dt.keys()], \"Distribution of disease by age\")\n",
        "    return dist\n",
        "\n",
        "print(dist_by_col(load_data('myheart.csv')))"
      ]
    },
    {
      "attachments": {},
      "cell_type": "markdown",
      "metadata": {},
      "source": [
        "#### 7: Especifique um programa que ao executar apresenta as tabelas correspondentes às distribuições pedidas"
      ]
    },
    {
      "cell_type": "code",
      "execution_count": 70,
      "metadata": {},
      "outputs": [
        {
          "name": "stdout",
          "output_type": "stream",
          "text": [
            "Distribution of disease by sex:\n",
            "*---------------------------*\n",
            "|    Value    |  Frequency  |\n",
            "*---------------------------*\n",
            "|      F      |  0.0854701  |\n",
            "|      M      |  0.9145299  |\n",
            "*---------------------------*\n",
            "Distribution of disease by age:\n",
            "*---------------------------*\n",
            "|    Value    |  Frequency  |\n",
            "*---------------------------*\n",
            "|   [30,34]   |  0.0128205  |\n",
            "|   [35,39]   |  0.0405983  |\n",
            "|   [40,44]   |  0.0576923  |\n",
            "|   [45,49]   |  0.1089744  |\n",
            "|   [50,54]   |  0.1773504  |\n",
            "|   [55,59]   |  0.2435897  |\n",
            "|   [60,64]   |  0.2158120  |\n",
            "|   [65,69]   |  0.0961538  |\n",
            "|   [70,74]   |  0.0363248  |\n",
            "|   [75,79]   |  0.0106838  |\n",
            "*---------------------------*\n",
            "Distribution of disease by age:\n",
            "*---------------------------*\n",
            "|    Value    |  Frequency  |\n",
            "*---------------------------*\n",
            "|  [100,109]  |  0.0031646  |\n",
            "|  [110,119]  |  0.0094937  |\n",
            "|  [120,129]  |  0.0063291  |\n",
            "|  [130,139]  |  0.0031646  |\n",
            "|  [140,149]  |  0.0063291  |\n",
            "|  [150,159]  |  0.0094937  |\n",
            "|  [160,169]  |  0.0189873  |\n",
            "|  [170,179]  |  0.0316456  |\n",
            "|  [180,189]  |  0.0253165  |\n",
            "|  [190,199]  |  0.0348101  |\n",
            "|  [200,209]  |  0.0601266  |\n",
            "|  [210,219]  |  0.0917722  |\n",
            "|  [220,229]  |  0.0759494  |\n",
            "|  [230,239]  |  0.0791139  |\n",
            "|  [240,249]  |  0.0664557  |\n",
            "|  [250,259]  |  0.0569620  |\n",
            "|  [260,269]  |  0.0759494  |\n",
            "|  [270,279]  |  0.0569620  |\n",
            "|  [280,289]  |  0.0822785  |\n",
            "|  [290,299]  |  0.0443038  |\n",
            "|  [300,309]  |  0.0379747  |\n",
            "|  [310,319]  |  0.0253165  |\n",
            "|  [320,329]  |  0.0126582  |\n",
            "|  [330,339]  |  0.0253165  |\n",
            "|  [340,349]  |  0.0158228  |\n",
            "|  [350,359]  |  0.0031646  |\n",
            "|  [360,369]  |  0.0031646  |\n",
            "|  [380,389]  |  0.0063291  |\n",
            "|  [390,399]  |  0.0063291  |\n",
            "|  [400,409]  |  0.0094937  |\n",
            "|  [460,469]  |  0.0031646  |\n",
            "|  [490,499]  |  0.0031646  |\n",
            "|  [510,519]  |  0.0031646  |\n",
            "|  [520,529]  |  0.0031646  |\n",
            "|  [600,609]  |  0.0031646  |\n",
            "*---------------------------*\n"
          ]
        }
      ],
      "source": [
        "def main():\n",
        "    data=load_data('myheart.csv')\n",
        "    print(dist_by_sex(data))\n",
        "    print(dist_by_age(data))\n",
        "    print(dist_by_col(data))\n",
        "\n",
        "main()"
      ]
    },
    {
      "attachments": {},
      "cell_type": "markdown",
      "metadata": {},
      "source": [
        "#### Extra: explore o módulo matplotlib e crie gráficos para as suas distribuições"
      ]
    },
    {
      "cell_type": "code",
      "execution_count": 71,
      "metadata": {},
      "outputs": [
        {
          "data": {
            "image/png": "[encoded data removed]",
            "text/plain": [
              "<Figure size 640x480 with 1 Axes>"
            ]
          },
          "metadata": {},
          "output_type": "display_data"
        }
      ],
      "source": [
        "def plot_dist(dis):\n",
        "    dis.data.sort(key=lambda x: x[0])\n",
        "    val=np.array([x for x,y in dis.data])\n",
        "    frq=np.array([y for x,y in dis.data])\n",
        "    plt.bar(val,frq)\n",
        "    plt.title(dis.name)\n",
        "    plt.xlabel('Value')\n",
        "    plt.ylabel('Frequency')\n",
        "    plt.show()\n",
        "\n",
        "\n",
        "data=load_data('myheart.csv')\n",
        "plot_dist(dist_by_age(data))"
      ]
    }
  ],
  "metadata": {
    "colab": {
      "provenance": []
    },
    "kernelspec": {
      "display_name": "Python 3",
      "language": "python",
      "name": "python3"
    },
    "language_info": {
      "codemirror_mode": {
        "name": "ipython",
        "version": 3
      },
      "file_extension": ".py",
      "mimetype": "text/x-python",
      "name": "python",
      "nbconvert_exporter": "python",
      "pygments_lexer": "ipython3",
      "version": "3.10.9"
    },
    "vscode": {
      "interpreter": {
        "hash": "e7370f93d1d0cde622a1f8e1c04877d8463912d04d973331ad4851f04de6915a"
      }
    }
  },
  "nbformat": 4,
  "nbformat_minor": 0
}
